{
 "cells": [
  {
   "cell_type": "markdown",
   "metadata": {},
   "source": [
    "# Insert at Beginning in a Circular Linked List"
   ]
  },
  {
   "cell_type": "code",
   "execution_count": 3,
   "metadata": {},
   "outputs": [],
   "source": [
    "class Node:\n",
    "    def __init__(self,data):\n",
    "        self.data=data\n",
    "        self.next=None\n",
    "\n",
    "class LinkedList:\n",
    "    def __init__(self):\n",
    "        self.head=None\n",
    "\n",
    "    def push(self,data):\n",
    "        #adds node to the starting of the LinkedList\n",
    "        temp=Node(data)\n",
    "        if self.head is None:\n",
    "            self.head=temp\n",
    "            temp.next=self.head #will point to itself\n",
    "            return\n",
    "        \n",
    "        curr=self.head\n",
    "        temp.next=self.head #connecting to the first node\n",
    "\n",
    "        #traverse to find the last node\n",
    "        while curr.next!=self.head:\n",
    "            curr=curr.next\n",
    "        #join the last node to the temp node\n",
    "        curr.next=temp\n",
    "        #making the temp node as start\n",
    "        self.head=temp\n"
   ]
  },
  {
   "cell_type": "markdown",
   "metadata": {},
   "source": [
    "# Traverse a CLL"
   ]
  },
  {
   "cell_type": "code",
   "execution_count": 4,
   "metadata": {},
   "outputs": [
    {
     "name": "stdout",
     "output_type": "stream",
     "text": [
      "1 2 3 4 5 6 "
     ]
    }
   ],
   "source": [
    "class Node:\n",
    "    def __init__(self,data):\n",
    "        self.data=data\n",
    "        self.next=None\n",
    "\n",
    "class LinkedList:\n",
    "    def __init__(self):\n",
    "        self.head=None\n",
    "\n",
    "    def push(self,data):\n",
    "        #adds node to the starting of the LinkedList\n",
    "        temp=Node(data)\n",
    "        if self.head is None:\n",
    "            self.head=temp\n",
    "            temp.next=self.head\n",
    "            return\n",
    "        curr=self.head\n",
    "        temp.next=self.head\n",
    "\n",
    "        while curr.next!=self.head:\n",
    "            curr=curr.next\n",
    "        curr.next=temp\n",
    "        self.head=temp\n",
    "\n",
    "    def traverse(self):\n",
    "        if self.head is None:\n",
    "            print('LinkedList is empty')\n",
    "            return\n",
    "        temp=self.head\n",
    "        while temp:\n",
    "            print(temp.data,end=\" \")\n",
    "            temp=temp.next\n",
    "            if temp==self.head:\n",
    "                break\n",
    "\n",
    "if __name__ == '__main__':\n",
    "    llist=LinkedList()\n",
    "    llist.push(6)\n",
    "    llist.push(5)\n",
    "    llist.push(4)\n",
    "    llist.push(3)\n",
    "    llist.push(2)\n",
    "    llist.push(1)\n",
    "    llist.traverse()\n"
   ]
  },
  {
   "cell_type": "markdown",
   "metadata": {},
   "source": [
    "# Split a Circular Linked List into two halves"
   ]
  },
  {
   "cell_type": "markdown",
   "metadata": {},
   "source": [
    "1) Store the mid and last pointers of the circular linked list using tortoise and hare algorithm.\n",
    "\n",
    "2) Make the second half circular.\n",
    "\n",
    "3) Make the first half circular.\n",
    "\n",
    "4) Set head (or start) pointers of the two linked lists."
   ]
  },
  {
   "cell_type": "code",
   "execution_count": 5,
   "metadata": {},
   "outputs": [
    {
     "name": "stdout",
     "output_type": "stream",
     "text": [
      "1 2 3 4 5 6 \n",
      "1 2 3 \n",
      "4 5 6 \n"
     ]
    }
   ],
   "source": [
    "class Node:\n",
    "    def __init__(self,data):\n",
    "        self.data=data\n",
    "        self.next=None\n",
    "\n",
    "class LinkedList:\n",
    "    def __init__(self):\n",
    "        self.head=None\n",
    "\n",
    "    def push(self,data):\n",
    "        temp=Node(data)\n",
    "        if self.head is None:\n",
    "            self.head=temp\n",
    "            temp.next=self.head\n",
    "            return\n",
    "\n",
    "        temp.next=self.head\n",
    "        curr=self.head\n",
    "        while curr.next!=self.head:\n",
    "            curr=curr.next\n",
    "        curr.next=temp\n",
    "        self.head=temp\n",
    "\n",
    "    def traverse(self):\n",
    "        if self.head is None:\n",
    "            return\n",
    "        temp=self.head\n",
    "\n",
    "        while temp:\n",
    "            print(temp.data,end=\" \")\n",
    "            temp=temp.next\n",
    "            if temp==self.head:\n",
    "                break\n",
    "        print()\n",
    "\n",
    "    def splitCLL(self):\n",
    "        if self.head is None:\n",
    "            print('Circular Linked List is empty')\n",
    "            return\n",
    "\n",
    "        slow=self.head\n",
    "        slowPrev=None\n",
    "        fast=self.head\n",
    "        while fast and fast.next:\n",
    "            slowPrev=slow\n",
    "            slow=slow.next\n",
    "            fast=fast.next.next\n",
    "            if fast==self.head or fast.next==self.head:\n",
    "                break\n",
    "        # print(slow.data)\n",
    "        # print(slowPrev.data)\n",
    "        # first half\n",
    "        slowPrev.next=self.head\n",
    "\n",
    "        temp=slow\n",
    "        while temp.next!=self.head:\n",
    "            temp=temp.next\n",
    "        temp.next=slow\n",
    "        first=LinkedList()\n",
    "        second=LinkedList()\n",
    "        first.head=self.head\n",
    "        second.head=slow\n",
    "\n",
    "        return (first,second)\n",
    "\n",
    "\n",
    "if __name__ == '__main__':\n",
    "    llist=LinkedList()\n",
    "    llist.push(6)\n",
    "    llist.push(5)\n",
    "    llist.push(4)\n",
    "    llist.push(3)\n",
    "    llist.push(2)\n",
    "    llist.push(1)\n",
    "    llist.traverse()\n",
    "    result=llist.splitCLL()\n",
    "    result[0].traverse()\n",
    "    result[1].traverse()\n"
   ]
  },
  {
   "cell_type": "code",
   "execution_count": null,
   "metadata": {},
   "outputs": [],
   "source": []
  }
 ],
 "metadata": {
  "kernelspec": {
   "display_name": "Python 3",
   "language": "python",
   "name": "python3"
  },
  "language_info": {
   "codemirror_mode": {
    "name": "ipython",
    "version": 3
   },
   "file_extension": ".py",
   "mimetype": "text/x-python",
   "name": "python",
   "nbconvert_exporter": "python",
   "pygments_lexer": "ipython3",
   "version": "3.7.6"
  }
 },
 "nbformat": 4,
 "nbformat_minor": 4
}
